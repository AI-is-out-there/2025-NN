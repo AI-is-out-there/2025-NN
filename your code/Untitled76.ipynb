{
  "nbformat": 4,
  "nbformat_minor": 0,
  "metadata": {
    "colab": {
      "provenance": []
    },
    "kernelspec": {
      "name": "python3",
      "display_name": "Python 3"
    },
    "language_info": {
      "name": "python"
    }
  },
  "cells": [
    {
      "cell_type": "code",
      "execution_count": 1,
      "metadata": {
        "colab": {
          "base_uri": "https://localhost:8080/"
        },
        "id": "SbW2Es5dOzmu",
        "outputId": "9ebdcf36-0041-4c50-ff7a-677d62ac0c13"
      },
      "outputs": [
        {
          "output_type": "stream",
          "name": "stdout",
          "text": [
            "my first repo\n"
          ]
        }
      ],
      "source": [
        "print('my first repo')"
      ]
    }
  ]
}