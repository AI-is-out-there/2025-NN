{
  "nbformat": 4,
  "nbformat_minor": 0,
  "metadata": {
    "colab": {
      "provenance": [],
      "authorship_tag": "ABX9TyNnYqqpzfIHqkq/NbUecAr3",
      "include_colab_link": true
    },
    "kernelspec": {
      "name": "python3",
      "display_name": "Python 3"
    },
    "language_info": {
      "name": "python"
    }
  },
  "cells": [
    {
      "cell_type": "markdown",
      "metadata": {
        "id": "view-in-github",
        "colab_type": "text"
      },
      "source": [
        "<a href=\"https://colab.research.google.com/github/DeaDOutSid3/2025-NN/blob/main/Popkov%20Mikhail%20640%2002.ipynb\" target=\"_parent\"><img src=\"https://colab.research.google.com/assets/colab-badge.svg\" alt=\"Open In Colab\"/></a>"
      ]
    },
    {
      "cell_type": "code",
      "execution_count": null,
      "metadata": {
        "id": "zK81X8WjPBtl"
      },
      "outputs": [],
      "source": [
        "# Импорт библиотек\n",
        "import tensorflow as tf\n",
        "from tensorflow.keras.preprocessing.text import Tokenizer\n",
        "from tensorflow.keras.preprocessing.sequence import pad_sequences\n",
        "from tensorflow.keras.models import Sequential\n",
        "from tensorflow.keras.layers import Embedding, Dense, GlobalAveragePooling1D\n",
        "# Пример текстов и меток (1 - положительный, 0 - отрицательный)\n",
        "texts = [\n",
        " \"я люблю эту книгу\",\n",
        " \"это отличная работа\",\n",
        " \"ужасный фильм\",\n",
        " \"мне не понравилось\",\n",
        " \"прекрасное место\",\n",
        " \"отвратительный сервис\"\n",
        "]\n",
        "labels = [1, 1, 0, 0, 1, 0]\n",
        "# Подготовка данных\n",
        "tokenizer = Tokenizer(num_words=100)\n",
        "tokenizer.fit_on_texts(texts)\n",
        "sequences = tokenizer.texts_to_sequences(texts)\n",
        "padded = pad_sequences(sequences, maxlen=5)\n",
        "# Создание модели\n",
        "model = Sequential([\n",
        " Embedding(100, 8, input_length=5),\n",
        " GlobalAveragePooling1D(),\n",
        " Dense(8, activation='relu'),\n",
        " Dense(1, activation='sigmoid')\n",
        "])\n",
        "# Компиляция и обучение\n",
        "model.compile(loss='binary_crossentropy', optimizer='adam', metrics=['accuracy'])\n",
        "model.fit(padded, labels, epochs=30, verbose=0)\n",
        "# Проверка работы модели\n",
        "test_texts = [\"прекрасный фильм\", \"ужасная книга\"]\n",
        "test_seq = tokenizer.texts_to_sequences(test_texts)\n",
        "test_pad = pad_sequences(test_seq, maxlen=5)\n",
        "predictions = model.predict(test_pad)\n",
        "for text, pred in zip(test_texts, predictions):\n",
        " print(f\"{text} -> {'Положительный' if pred > 0.5 else 'Отрицательный'} отзыв\")"
      ]
    }
  ]
}
